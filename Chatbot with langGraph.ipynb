{
 "cells": [
  {
   "cell_type": "code",
   "execution_count": 33,
   "id": "14f3d167",
   "metadata": {},
   "outputs": [
    {
     "name": "stdout",
     "output_type": "stream",
     "text": [
      "Requirement already satisfied: langgraph in c:\\users\\arkop\\anaconda3\\lib\\site-packages (0.3.16)\n",
      "Requirement already satisfied: langsmith in c:\\users\\arkop\\anaconda3\\lib\\site-packages (0.3.15)\n",
      "Requirement already satisfied: langchain-core<0.4,>=0.1 in c:\\users\\arkop\\anaconda3\\lib\\site-packages (from langgraph) (0.3.45)\n",
      "Requirement already satisfied: langgraph-checkpoint<3.0.0,>=2.0.10 in c:\\users\\arkop\\anaconda3\\lib\\site-packages (from langgraph) (2.0.21)\n",
      "Requirement already satisfied: langgraph-prebuilt<0.2,>=0.1.1 in c:\\users\\arkop\\anaconda3\\lib\\site-packages (from langgraph) (0.1.3)\n",
      "Requirement already satisfied: langgraph-sdk<0.2.0,>=0.1.42 in c:\\users\\arkop\\anaconda3\\lib\\site-packages (from langgraph) (0.1.57)\n",
      "Requirement already satisfied: httpx<1,>=0.23.0 in c:\\users\\arkop\\anaconda3\\lib\\site-packages (from langsmith) (0.28.1)\n",
      "Requirement already satisfied: orjson<4.0.0,>=3.9.14 in c:\\users\\arkop\\anaconda3\\lib\\site-packages (from langsmith) (3.10.15)\n",
      "Requirement already satisfied: packaging>=23.2 in c:\\users\\arkop\\anaconda3\\lib\\site-packages (from langsmith) (24.2)\n",
      "Requirement already satisfied: pydantic<3,>=1 in c:\\users\\arkop\\anaconda3\\lib\\site-packages (from langsmith) (2.10.6)\n",
      "Requirement already satisfied: requests<3,>=2 in c:\\users\\arkop\\anaconda3\\lib\\site-packages (from langsmith) (2.31.0)\n",
      "Requirement already satisfied: requests-toolbelt<2.0.0,>=1.0.0 in c:\\users\\arkop\\anaconda3\\lib\\site-packages (from langsmith) (1.0.0)\n",
      "Requirement already satisfied: zstandard<0.24.0,>=0.23.0 in c:\\users\\arkop\\anaconda3\\lib\\site-packages (from langsmith) (0.23.0)\n",
      "Requirement already satisfied: anyio in c:\\users\\arkop\\anaconda3\\lib\\site-packages (from httpx<1,>=0.23.0->langsmith) (3.5.0)\n",
      "Requirement already satisfied: certifi in c:\\users\\arkop\\anaconda3\\lib\\site-packages (from httpx<1,>=0.23.0->langsmith) (2023.7.22)\n",
      "Requirement already satisfied: httpcore==1.* in c:\\users\\arkop\\anaconda3\\lib\\site-packages (from httpx<1,>=0.23.0->langsmith) (1.0.7)\n",
      "Requirement already satisfied: idna in c:\\users\\arkop\\anaconda3\\lib\\site-packages (from httpx<1,>=0.23.0->langsmith) (3.4)\n",
      "Requirement already satisfied: h11<0.15,>=0.13 in c:\\users\\arkop\\anaconda3\\lib\\site-packages (from httpcore==1.*->httpx<1,>=0.23.0->langsmith) (0.14.0)\n",
      "Requirement already satisfied: tenacity!=8.4.0,<10.0.0,>=8.1.0 in c:\\users\\arkop\\anaconda3\\lib\\site-packages (from langchain-core<0.4,>=0.1->langgraph) (8.2.2)\n",
      "Requirement already satisfied: jsonpatch<2.0,>=1.33 in c:\\users\\arkop\\anaconda3\\lib\\site-packages (from langchain-core<0.4,>=0.1->langgraph) (1.33)\n",
      "Requirement already satisfied: PyYAML>=5.3 in c:\\users\\arkop\\anaconda3\\lib\\site-packages (from langchain-core<0.4,>=0.1->langgraph) (6.0)\n",
      "Requirement already satisfied: typing-extensions>=4.7 in c:\\users\\arkop\\anaconda3\\lib\\site-packages (from langchain-core<0.4,>=0.1->langgraph) (4.12.2)\n",
      "Requirement already satisfied: msgpack<2.0.0,>=1.1.0 in c:\\users\\arkop\\anaconda3\\lib\\site-packages (from langgraph-checkpoint<3.0.0,>=2.0.10->langgraph) (1.1.0)\n",
      "Requirement already satisfied: annotated-types>=0.6.0 in c:\\users\\arkop\\anaconda3\\lib\\site-packages (from pydantic<3,>=1->langsmith) (0.7.0)\n",
      "Requirement already satisfied: pydantic-core==2.27.2 in c:\\users\\arkop\\anaconda3\\lib\\site-packages (from pydantic<3,>=1->langsmith) (2.27.2)\n",
      "Requirement already satisfied: charset-normalizer<4,>=2 in c:\\users\\arkop\\anaconda3\\lib\\site-packages (from requests<3,>=2->langsmith) (2.0.4)\n",
      "Requirement already satisfied: urllib3<3,>=1.21.1 in c:\\users\\arkop\\anaconda3\\lib\\site-packages (from requests<3,>=2->langsmith) (1.26.16)\n",
      "Requirement already satisfied: jsonpointer>=1.9 in c:\\users\\arkop\\anaconda3\\lib\\site-packages (from jsonpatch<2.0,>=1.33->langchain-core<0.4,>=0.1->langgraph) (2.1)\n",
      "Requirement already satisfied: sniffio>=1.1 in c:\\users\\arkop\\anaconda3\\lib\\site-packages (from anyio->httpx<1,>=0.23.0->langsmith) (1.2.0)\n"
     ]
    }
   ],
   "source": [
    "!pip install langgraph langsmith\n"
   ]
  },
  {
   "cell_type": "code",
   "execution_count": 34,
   "id": "13b6d133",
   "metadata": {},
   "outputs": [
    {
     "name": "stdout",
     "output_type": "stream",
     "text": [
      "Requirement already satisfied: langchain in c:\\users\\arkop\\anaconda3\\lib\\site-packages (0.3.20)\n",
      "Requirement already satisfied: langchain_groq in c:\\users\\arkop\\anaconda3\\lib\\site-packages (0.2.5)\n",
      "Requirement already satisfied: langchain_community in c:\\users\\arkop\\anaconda3\\lib\\site-packages (0.3.19)\n",
      "Requirement already satisfied: langchain-core<1.0.0,>=0.3.41 in c:\\users\\arkop\\anaconda3\\lib\\site-packages (from langchain) (0.3.45)\n",
      "Requirement already satisfied: langchain-text-splitters<1.0.0,>=0.3.6 in c:\\users\\arkop\\anaconda3\\lib\\site-packages (from langchain) (0.3.6)\n",
      "Requirement already satisfied: langsmith<0.4,>=0.1.17 in c:\\users\\arkop\\anaconda3\\lib\\site-packages (from langchain) (0.3.15)\n",
      "Requirement already satisfied: pydantic<3.0.0,>=2.7.4 in c:\\users\\arkop\\anaconda3\\lib\\site-packages (from langchain) (2.10.6)\n",
      "Requirement already satisfied: SQLAlchemy<3,>=1.4 in c:\\users\\arkop\\anaconda3\\lib\\site-packages (from langchain) (1.4.39)\n",
      "Requirement already satisfied: requests<3,>=2 in c:\\users\\arkop\\anaconda3\\lib\\site-packages (from langchain) (2.31.0)\n",
      "Requirement already satisfied: PyYAML>=5.3 in c:\\users\\arkop\\anaconda3\\lib\\site-packages (from langchain) (6.0)\n",
      "Requirement already satisfied: groq<1,>=0.4.1 in c:\\users\\arkop\\anaconda3\\lib\\site-packages (from langchain_groq) (0.20.0)\n",
      "Requirement already satisfied: aiohttp<4.0.0,>=3.8.3 in c:\\users\\arkop\\anaconda3\\lib\\site-packages (from langchain_community) (3.8.5)\n",
      "Requirement already satisfied: tenacity!=8.4.0,<10,>=8.1.0 in c:\\users\\arkop\\anaconda3\\lib\\site-packages (from langchain_community) (8.2.2)\n",
      "Requirement already satisfied: dataclasses-json<0.7,>=0.5.7 in c:\\users\\arkop\\anaconda3\\lib\\site-packages (from langchain_community) (0.6.7)\n",
      "Requirement already satisfied: pydantic-settings<3.0.0,>=2.4.0 in c:\\users\\arkop\\anaconda3\\lib\\site-packages (from langchain_community) (2.8.1)\n",
      "Requirement already satisfied: httpx-sse<1.0.0,>=0.4.0 in c:\\users\\arkop\\anaconda3\\lib\\site-packages (from langchain_community) (0.4.0)\n",
      "Requirement already satisfied: numpy<3,>=1.26.2 in c:\\users\\arkop\\anaconda3\\lib\\site-packages (from langchain_community) (2.2.4)\n",
      "Requirement already satisfied: attrs>=17.3.0 in c:\\users\\arkop\\anaconda3\\lib\\site-packages (from aiohttp<4.0.0,>=3.8.3->langchain_community) (22.1.0)\n",
      "Requirement already satisfied: charset-normalizer<4.0,>=2.0 in c:\\users\\arkop\\anaconda3\\lib\\site-packages (from aiohttp<4.0.0,>=3.8.3->langchain_community) (2.0.4)\n",
      "Requirement already satisfied: multidict<7.0,>=4.5 in c:\\users\\arkop\\anaconda3\\lib\\site-packages (from aiohttp<4.0.0,>=3.8.3->langchain_community) (6.0.2)\n",
      "Requirement already satisfied: async-timeout<5.0,>=4.0.0a3 in c:\\users\\arkop\\anaconda3\\lib\\site-packages (from aiohttp<4.0.0,>=3.8.3->langchain_community) (4.0.2)\n",
      "Requirement already satisfied: yarl<2.0,>=1.0 in c:\\users\\arkop\\anaconda3\\lib\\site-packages (from aiohttp<4.0.0,>=3.8.3->langchain_community) (1.8.1)\n",
      "Requirement already satisfied: frozenlist>=1.1.1 in c:\\users\\arkop\\anaconda3\\lib\\site-packages (from aiohttp<4.0.0,>=3.8.3->langchain_community) (1.3.3)\n",
      "Requirement already satisfied: aiosignal>=1.1.2 in c:\\users\\arkop\\anaconda3\\lib\\site-packages (from aiohttp<4.0.0,>=3.8.3->langchain_community) (1.2.0)\n",
      "Requirement already satisfied: marshmallow<4.0.0,>=3.18.0 in c:\\users\\arkop\\anaconda3\\lib\\site-packages (from dataclasses-json<0.7,>=0.5.7->langchain_community) (3.26.1)\n",
      "Requirement already satisfied: typing-inspect<1,>=0.4.0 in c:\\users\\arkop\\anaconda3\\lib\\site-packages (from dataclasses-json<0.7,>=0.5.7->langchain_community) (0.9.0)\n",
      "Requirement already satisfied: anyio<5,>=3.5.0 in c:\\users\\arkop\\anaconda3\\lib\\site-packages (from groq<1,>=0.4.1->langchain_groq) (3.5.0)\n",
      "Requirement already satisfied: distro<2,>=1.7.0 in c:\\users\\arkop\\anaconda3\\lib\\site-packages (from groq<1,>=0.4.1->langchain_groq) (1.9.0)\n",
      "Requirement already satisfied: httpx<1,>=0.23.0 in c:\\users\\arkop\\anaconda3\\lib\\site-packages (from groq<1,>=0.4.1->langchain_groq) (0.28.1)\n",
      "Requirement already satisfied: sniffio in c:\\users\\arkop\\anaconda3\\lib\\site-packages (from groq<1,>=0.4.1->langchain_groq) (1.2.0)\n",
      "Requirement already satisfied: typing-extensions<5,>=4.10 in c:\\users\\arkop\\anaconda3\\lib\\site-packages (from groq<1,>=0.4.1->langchain_groq) (4.12.2)\n",
      "Requirement already satisfied: jsonpatch<2.0,>=1.33 in c:\\users\\arkop\\anaconda3\\lib\\site-packages (from langchain-core<1.0.0,>=0.3.41->langchain) (1.33)\n",
      "Requirement already satisfied: packaging<25,>=23.2 in c:\\users\\arkop\\anaconda3\\lib\\site-packages (from langchain-core<1.0.0,>=0.3.41->langchain) (24.2)\n",
      "Requirement already satisfied: orjson<4.0.0,>=3.9.14 in c:\\users\\arkop\\anaconda3\\lib\\site-packages (from langsmith<0.4,>=0.1.17->langchain) (3.10.15)\n",
      "Requirement already satisfied: requests-toolbelt<2.0.0,>=1.0.0 in c:\\users\\arkop\\anaconda3\\lib\\site-packages (from langsmith<0.4,>=0.1.17->langchain) (1.0.0)\n",
      "Requirement already satisfied: zstandard<0.24.0,>=0.23.0 in c:\\users\\arkop\\anaconda3\\lib\\site-packages (from langsmith<0.4,>=0.1.17->langchain) (0.23.0)\n",
      "Requirement already satisfied: annotated-types>=0.6.0 in c:\\users\\arkop\\anaconda3\\lib\\site-packages (from pydantic<3.0.0,>=2.7.4->langchain) (0.7.0)\n",
      "Requirement already satisfied: pydantic-core==2.27.2 in c:\\users\\arkop\\anaconda3\\lib\\site-packages (from pydantic<3.0.0,>=2.7.4->langchain) (2.27.2)\n",
      "Requirement already satisfied: python-dotenv>=0.21.0 in c:\\users\\arkop\\anaconda3\\lib\\site-packages (from pydantic-settings<3.0.0,>=2.4.0->langchain_community) (0.21.0)\n",
      "Requirement already satisfied: idna<4,>=2.5 in c:\\users\\arkop\\anaconda3\\lib\\site-packages (from requests<3,>=2->langchain) (3.4)\n",
      "Requirement already satisfied: urllib3<3,>=1.21.1 in c:\\users\\arkop\\anaconda3\\lib\\site-packages (from requests<3,>=2->langchain) (1.26.16)\n",
      "Requirement already satisfied: certifi>=2017.4.17 in c:\\users\\arkop\\anaconda3\\lib\\site-packages (from requests<3,>=2->langchain) (2023.7.22)\n",
      "Requirement already satisfied: greenlet!=0.4.17 in c:\\users\\arkop\\anaconda3\\lib\\site-packages (from SQLAlchemy<3,>=1.4->langchain) (2.0.1)\n",
      "Requirement already satisfied: httpcore==1.* in c:\\users\\arkop\\anaconda3\\lib\\site-packages (from httpx<1,>=0.23.0->groq<1,>=0.4.1->langchain_groq) (1.0.7)\n",
      "Requirement already satisfied: h11<0.15,>=0.13 in c:\\users\\arkop\\anaconda3\\lib\\site-packages (from httpcore==1.*->httpx<1,>=0.23.0->groq<1,>=0.4.1->langchain_groq) (0.14.0)\n",
      "Requirement already satisfied: jsonpointer>=1.9 in c:\\users\\arkop\\anaconda3\\lib\\site-packages (from jsonpatch<2.0,>=1.33->langchain-core<1.0.0,>=0.3.41->langchain) (2.1)\n",
      "Requirement already satisfied: mypy-extensions>=0.3.0 in c:\\users\\arkop\\anaconda3\\lib\\site-packages (from typing-inspect<1,>=0.4.0->dataclasses-json<0.7,>=0.5.7->langchain_community) (1.0.0)\n"
     ]
    }
   ],
   "source": [
    "!pip install langchain langchain_groq langchain_community"
   ]
  },
  {
   "cell_type": "code",
   "execution_count": 11,
   "id": "21204906",
   "metadata": {},
   "outputs": [],
   "source": [
    "import os"
   ]
  },
  {
   "cell_type": "code",
   "execution_count": 15,
   "id": "8d32ca53",
   "metadata": {},
   "outputs": [],
   "source": [
    "from dotenv import load_dotenv"
   ]
  },
  {
   "cell_type": "code",
   "execution_count": 28,
   "id": "9e6d84b9",
   "metadata": {},
   "outputs": [],
   "source": [
    "load_dotenv()\n",
    "os.environ[\"GROQ_API_KEY\"]=\"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\"\n",
    "langsmith=os.environ[\"LANGSMITH_API_KEY\"]=\"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\""
   ]
  },
  {
   "cell_type": "code",
   "execution_count": 30,
   "id": "9fa8d73e",
   "metadata": {},
   "outputs": [
    {
     "name": "stdout",
     "output_type": "stream",
     "text": [
      "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\n",
      "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\n"
     ]
    }
   ],
   "source": [
    "print(GROQ_API_KEY)\n",
    "print(langsmith)"
   ]
  },
  {
   "cell_type": "code",
   "execution_count": 32,
   "id": "7ad70c56",
   "metadata": {},
   "outputs": [],
   "source": [
    "import os\n",
    "os.environ[\"LANGCHAIN_API_KEY\"] = langsmith\n",
    "os.environ[\"LANGCHAIN_TRACING_V2\"]=\"true\"\n",
    "os.environ[\"LANGCHAIN_PROJECT\"]=\"CourseLanggraph\"\n"
   ]
  },
  {
   "cell_type": "code",
   "execution_count": 35,
   "id": "6550b0cd",
   "metadata": {},
   "outputs": [],
   "source": [
    "from langchain_groq import ChatGroq"
   ]
  },
  {
   "cell_type": "code",
   "execution_count": 36,
   "id": "18ff3a67",
   "metadata": {},
   "outputs": [
    {
     "data": {
      "text/plain": [
       "ChatGroq(client=<groq.resources.chat.completions.Completions object at 0x0000022A25D0BC50>, async_client=<groq.resources.chat.completions.AsyncCompletions object at 0x0000022A25D2A450>, model_name='Gemma2-9b-It', model_kwargs={}, groq_api_key=SecretStr('**********'))"
      ]
     },
     "execution_count": 36,
     "metadata": {},
     "output_type": "execute_result"
    }
   ],
   "source": [
    "llm=ChatGroq(groq_api_key=\"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\",model_name=\"Gemma2-9b-It\")\n",
    "llm"
   ]
  },
  {
   "cell_type": "markdown",
   "id": "077de294",
   "metadata": {},
   "source": [
    "# Start Building Chatbot Using Langgraph"
   ]
  },
  {
   "cell_type": "code",
   "execution_count": 37,
   "id": "2c2f2744",
   "metadata": {},
   "outputs": [],
   "source": [
    "from typing import Annotated\n",
    "from typing_extensions import TypedDict\n",
    "from langgraph.graph import StateGraph,START,END\n",
    "from langgraph.graph.message import add_messages"
   ]
  },
  {
   "cell_type": "code",
   "execution_count": 38,
   "id": "49b5e2f6",
   "metadata": {},
   "outputs": [],
   "source": [
    "class State(TypedDict):\n",
    "  # Messages have the type \"list\". The `add_messages` function\n",
    "    # in the annotation defines how this state key should be updated\n",
    "    # (in this case, it appends messages to the list, rather than overwriting them)\n",
    "  messages:Annotated[list,add_messages]\n",
    "\n",
    "graph_builder=StateGraph(State)"
   ]
  },
  {
   "cell_type": "code",
   "execution_count": 39,
   "id": "3302d4a7",
   "metadata": {},
   "outputs": [
    {
     "data": {
      "text/plain": [
       "<langgraph.graph.state.StateGraph at 0x22a21657650>"
      ]
     },
     "execution_count": 39,
     "metadata": {},
     "output_type": "execute_result"
    }
   ],
   "source": [
    "graph_builder"
   ]
  },
  {
   "cell_type": "code",
   "execution_count": 40,
   "id": "13fb3b1e",
   "metadata": {},
   "outputs": [],
   "source": [
    "def chatbot(state:State):\n",
    "  return {\"messages\":llm.invoke(state['messages'])}"
   ]
  },
  {
   "cell_type": "code",
   "execution_count": 41,
   "id": "f53d0d7e",
   "metadata": {},
   "outputs": [
    {
     "data": {
      "text/plain": [
       "<langgraph.graph.state.StateGraph at 0x22a21657650>"
      ]
     },
     "execution_count": 41,
     "metadata": {},
     "output_type": "execute_result"
    }
   ],
   "source": [
    "graph_builder.add_node(\"chatbot\",chatbot)"
   ]
  },
  {
   "cell_type": "code",
   "execution_count": 42,
   "id": "e6821581",
   "metadata": {},
   "outputs": [
    {
     "data": {
      "text/plain": [
       "<langgraph.graph.state.StateGraph at 0x22a21657650>"
      ]
     },
     "execution_count": 42,
     "metadata": {},
     "output_type": "execute_result"
    }
   ],
   "source": [
    "graph_builder"
   ]
  },
  {
   "cell_type": "code",
   "execution_count": 43,
   "id": "1a7dd5ef",
   "metadata": {},
   "outputs": [
    {
     "data": {
      "text/plain": [
       "<langgraph.graph.state.StateGraph at 0x22a21657650>"
      ]
     },
     "execution_count": 43,
     "metadata": {},
     "output_type": "execute_result"
    }
   ],
   "source": [
    "graph_builder.add_edge(START,\"chatbot\")\n",
    "graph_builder.add_edge(\"chatbot\",END)"
   ]
  },
  {
   "cell_type": "code",
   "execution_count": 44,
   "id": "1aa60219",
   "metadata": {},
   "outputs": [],
   "source": [
    "graph=graph_builder.compile()"
   ]
  },
  {
   "cell_type": "code",
   "execution_count": 45,
   "id": "fb9b2873",
   "metadata": {},
   "outputs": [
    {
     "data": {
      "image/png": "[encoded data removed]",
      "text/plain": [
       "<IPython.core.display.Image object>"
      ]
     },
     "metadata": {},
     "output_type": "display_data"
    }
   ],
   "source": [
    "from IPython.display import Image, display\n",
    "try:\n",
    "  display(Image(graph.get_graph().draw_mermaid_png()))\n",
    "except Exception:\n",
    "  pass"
   ]
  },
  {
   "cell_type": "code",
   "execution_count": 46,
   "id": "c1cd8ff1",
   "metadata": {},
   "outputs": [
    {
     "name": "stdout",
     "output_type": "stream",
     "text": [
      "User: hello\n",
      "dict_values([{'messages': AIMessage(content='Hello! 👋  What can I do for you today?\\n', additional_kwargs={}, response_metadata={'token_usage': {'completion_tokens': 15, 'prompt_tokens': 11, 'total_tokens': 26, 'completion_time': 0.027272727, 'prompt_time': 0.001896327, 'queue_time': 0.017724363, 'total_time': 0.029169054}, 'model_name': 'Gemma2-9b-It', 'system_fingerprint': 'fp_10c08bf97d', 'finish_reason': 'stop', 'logprobs': None}, id='run-9e02791e-b27f-4703-bc2a-5e27a38cb669-0', usage_metadata={'input_tokens': 11, 'output_tokens': 15, 'total_tokens': 26})}])\n",
      "content='Hello! 👋  What can I do for you today?\\n' additional_kwargs={} response_metadata={'token_usage': {'completion_tokens': 15, 'prompt_tokens': 11, 'total_tokens': 26, 'completion_time': 0.027272727, 'prompt_time': 0.001896327, 'queue_time': 0.017724363, 'total_time': 0.029169054}, 'model_name': 'Gemma2-9b-It', 'system_fingerprint': 'fp_10c08bf97d', 'finish_reason': 'stop', 'logprobs': None} id='run-9e02791e-b27f-4703-bc2a-5e27a38cb669-0' usage_metadata={'input_tokens': 11, 'output_tokens': 15, 'total_tokens': 26}\n",
      "Assistant: Hello! 👋  What can I do for you today?\n",
      "\n",
      "User: what is genAI?\n",
      "dict_values([{'messages': AIMessage(content='## GenAI: The Creative Powerhouse\\n\\nGenAI stands for **Generative Artificial Intelligence**. It\\'s a type of AI that focuses on **creating new content**, rather than just analyzing existing data. Think of it as an AI artist, writer, musician, or even programmer.\\n\\n**Here\\'s what makes GenAI special:**\\n\\n* **Creativity:** GenAI models can generate original content like text, images, audio, video, and even code, based on the data they were trained on.\\n* **Diversity:** They can produce a wide range of outputs, from realistic photographs to imaginative poems, showcasing their adaptability and creative potential.\\n* **Efficiency:** GenAI can accelerate content creation, automating tasks and freeing up human time for more complex endeavors.\\n\\n**Examples of GenAI in action:**\\n\\n* **ChatGPT (me!):** Generating human-like text for conversation, writing stories, summarizing information, and more.\\n* **DALL-E 2:** Creating stunning images from text descriptions, like \"a cat wearing a hat riding a unicorn.\"\\n* **Jukebox:** Composing original music in various styles and genres.\\n\\n**The potential of GenAI is vast:**\\n\\n* **Art and Entertainment:** Revolutionizing creative industries with new forms of art, music, and storytelling.\\n* **Education:** Providing personalized learning experiences and interactive educational tools.\\n* **Business:** Automating content creation, improving customer service, and generating innovative ideas.\\n\\n**However, GenAI also raises important ethical considerations:**\\n\\n* **Bias and fairness:** GenAI models can inherit biases from the data they are trained on, leading to potentially harmful outputs.\\n* **Misinformation and manipulation:** The ability to generate realistic content can be misused for creating fake news, deepfakes, and other forms of manipulation.\\n* **Copyright and intellectual property:** Questions arise about ownership and copyright of content generated by AI.\\n\\n\\nOverall, GenAI is a powerful technology with the potential to transform many aspects of our lives. It\\'s crucial to approach its development and deployment responsibly, addressing ethical concerns and ensuring its benefits are shared by all.\\n', additional_kwargs={}, response_metadata={'token_usage': {'completion_tokens': 436, 'prompt_tokens': 14, 'total_tokens': 450, 'completion_time': 0.792727273, 'prompt_time': 0.001924997, 'queue_time': 0.017007293, 'total_time': 0.79465227}, 'model_name': 'Gemma2-9b-It', 'system_fingerprint': 'fp_10c08bf97d', 'finish_reason': 'stop', 'logprobs': None}, id='run-9422aa4b-99fa-4c0e-ae3d-7949aad37704-0', usage_metadata={'input_tokens': 14, 'output_tokens': 436, 'total_tokens': 450})}])\n",
      "content='## GenAI: The Creative Powerhouse\\n\\nGenAI stands for **Generative Artificial Intelligence**. It\\'s a type of AI that focuses on **creating new content**, rather than just analyzing existing data. Think of it as an AI artist, writer, musician, or even programmer.\\n\\n**Here\\'s what makes GenAI special:**\\n\\n* **Creativity:** GenAI models can generate original content like text, images, audio, video, and even code, based on the data they were trained on.\\n* **Diversity:** They can produce a wide range of outputs, from realistic photographs to imaginative poems, showcasing their adaptability and creative potential.\\n* **Efficiency:** GenAI can accelerate content creation, automating tasks and freeing up human time for more complex endeavors.\\n\\n**Examples of GenAI in action:**\\n\\n* **ChatGPT (me!):** Generating human-like text for conversation, writing stories, summarizing information, and more.\\n* **DALL-E 2:** Creating stunning images from text descriptions, like \"a cat wearing a hat riding a unicorn.\"\\n* **Jukebox:** Composing original music in various styles and genres.\\n\\n**The potential of GenAI is vast:**\\n\\n* **Art and Entertainment:** Revolutionizing creative industries with new forms of art, music, and storytelling.\\n* **Education:** Providing personalized learning experiences and interactive educational tools.\\n* **Business:** Automating content creation, improving customer service, and generating innovative ideas.\\n\\n**However, GenAI also raises important ethical considerations:**\\n\\n* **Bias and fairness:** GenAI models can inherit biases from the data they are trained on, leading to potentially harmful outputs.\\n* **Misinformation and manipulation:** The ability to generate realistic content can be misused for creating fake news, deepfakes, and other forms of manipulation.\\n* **Copyright and intellectual property:** Questions arise about ownership and copyright of content generated by AI.\\n\\n\\nOverall, GenAI is a powerful technology with the potential to transform many aspects of our lives. It\\'s crucial to approach its development and deployment responsibly, addressing ethical concerns and ensuring its benefits are shared by all.\\n' additional_kwargs={} response_metadata={'token_usage': {'completion_tokens': 436, 'prompt_tokens': 14, 'total_tokens': 450, 'completion_time': 0.792727273, 'prompt_time': 0.001924997, 'queue_time': 0.017007293, 'total_time': 0.79465227}, 'model_name': 'Gemma2-9b-It', 'system_fingerprint': 'fp_10c08bf97d', 'finish_reason': 'stop', 'logprobs': None} id='run-9422aa4b-99fa-4c0e-ae3d-7949aad37704-0' usage_metadata={'input_tokens': 14, 'output_tokens': 436, 'total_tokens': 450}\n",
      "Assistant: ## GenAI: The Creative Powerhouse\n",
      "\n",
      "GenAI stands for **Generative Artificial Intelligence**. It's a type of AI that focuses on **creating new content**, rather than just analyzing existing data. Think of it as an AI artist, writer, musician, or even programmer.\n",
      "\n",
      "**Here's what makes GenAI special:**\n",
      "\n",
      "* **Creativity:** GenAI models can generate original content like text, images, audio, video, and even code, based on the data they were trained on.\n",
      "* **Diversity:** They can produce a wide range of outputs, from realistic photographs to imaginative poems, showcasing their adaptability and creative potential.\n",
      "* **Efficiency:** GenAI can accelerate content creation, automating tasks and freeing up human time for more complex endeavors.\n",
      "\n",
      "**Examples of GenAI in action:**\n",
      "\n",
      "* **ChatGPT (me!):** Generating human-like text for conversation, writing stories, summarizing information, and more.\n",
      "* **DALL-E 2:** Creating stunning images from text descriptions, like \"a cat wearing a hat riding a unicorn.\"\n",
      "* **Jukebox:** Composing original music in various styles and genres.\n",
      "\n",
      "**The potential of GenAI is vast:**\n",
      "\n",
      "* **Art and Entertainment:** Revolutionizing creative industries with new forms of art, music, and storytelling.\n",
      "* **Education:** Providing personalized learning experiences and interactive educational tools.\n",
      "* **Business:** Automating content creation, improving customer service, and generating innovative ideas.\n",
      "\n",
      "**However, GenAI also raises important ethical considerations:**\n",
      "\n",
      "* **Bias and fairness:** GenAI models can inherit biases from the data they are trained on, leading to potentially harmful outputs.\n",
      "* **Misinformation and manipulation:** The ability to generate realistic content can be misused for creating fake news, deepfakes, and other forms of manipulation.\n",
      "* **Copyright and intellectual property:** Questions arise about ownership and copyright of content generated by AI.\n",
      "\n",
      "\n",
      "Overall, GenAI is a powerful technology with the potential to transform many aspects of our lives. It's crucial to approach its development and deployment responsibly, addressing ethical concerns and ensuring its benefits are shared by all.\n",
      "\n"
     ]
    },
    {
     "name": "stdout",
     "output_type": "stream",
     "text": [
      "User: q\n",
      "Good Bye\n"
     ]
    }
   ],
   "source": [
    "while True:\n",
    "  user_input=input(\"User: \")\n",
    "  if user_input.lower() in [\"quit\",\"q\"]:\n",
    "    print(\"Good Bye\")\n",
    "    break\n",
    "  for event in graph.stream({'messages':(\"user\",user_input)}):\n",
    "    print(event.values())\n",
    "    for value in event.values():\n",
    "      print(value['messages'])\n",
    "      print(\"Assistant:\",value[\"messages\"].content)"
   ]
  },
  {
   "cell_type": "code",
   "execution_count": null,
   "id": "ce39c66e",
   "metadata": {},
   "outputs": [],
   "source": []
  },
  {
   "cell_type": "code",
   "execution_count": null,
   "id": "e1f11c38",
   "metadata": {},
   "outputs": [],
   "source": []
  },
  {
   "cell_type": "code",
   "execution_count": null,
   "id": "4d2b5a62",
   "metadata": {},
   "outputs": [],
   "source": []
  },
  {
   "cell_type": "code",
   "execution_count": null,
   "id": "2f399a16",
   "metadata": {},
   "outputs": [],
   "source": []
  },
  {
   "cell_type": "code",
   "execution_count": null,
   "id": "525ae10e",
   "metadata": {},
   "outputs": [],
   "source": []
  },
  {
   "cell_type": "code",
   "execution_count": null,
   "id": "bca8cfda",
   "metadata": {},
   "outputs": [],
   "source": []
  },
  {
   "cell_type": "code",
   "execution_count": null,
   "id": "6ea07ca0",
   "metadata": {},
   "outputs": [],
   "source": []
  },
  {
   "cell_type": "code",
   "execution_count": null,
   "id": "e5a6bfb8",
   "metadata": {},
   "outputs": [],
   "source": []
  },
  {
   "cell_type": "code",
   "execution_count": null,
   "id": "878f332e",
   "metadata": {},
   "outputs": [],
   "source": []
  },
  {
   "cell_type": "code",
   "execution_count": null,
   "id": "be2b905f",
   "metadata": {},
   "outputs": [],
   "source": []
  },
  {
   "cell_type": "code",
   "execution_count": null,
   "id": "fe2cd40c",
   "metadata": {},
   "outputs": [],
   "source": []
  },
  {
   "cell_type": "code",
   "execution_count": null,
   "id": "60d9e974",
   "metadata": {},
   "outputs": [],
   "source": []
  },
  {
   "cell_type": "code",
   "execution_count": null,
   "id": "7d5db1eb",
   "metadata": {},
   "outputs": [],
   "source": []
  },
  {
   "cell_type": "code",
   "execution_count": null,
   "id": "df454bdf",
   "metadata": {},
   "outputs": [],
   "source": []
  }
 ],
 "metadata": {
  "kernelspec": {
   "display_name": "Python 3 (ipykernel)",
   "language": "python",
   "name": "python3"
  },
  "language_info": {
   "codemirror_mode": {
    "name": "ipython",
    "version": 3
   },
   "file_extension": ".py",
   "mimetype": "text/x-python",
   "name": "python",
   "nbconvert_exporter": "python",
   "pygments_lexer": "ipython3",
   "version": "3.11.5"
  }
 },
 "nbformat": 4,
 "nbformat_minor": 5
}
